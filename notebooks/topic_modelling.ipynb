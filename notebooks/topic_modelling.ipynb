{
 "cells": [
  {
   "cell_type": "code",
   "execution_count": 1,
   "metadata": {},
   "outputs": [
    {
     "name": "stdout",
     "output_type": "stream",
     "text": [
      "/Users/shpotes/Developer/factored-datathon-2023-almond\n"
     ]
    }
   ],
   "source": [
    "%cd .."
   ]
  },
  {
   "cell_type": "code",
   "execution_count": 2,
   "metadata": {},
   "outputs": [],
   "source": [
    "import pandas as pd\n",
    "import uuid\n",
    "\n",
    "from src.modelling.topics.topic_extractor import TopicExtractionConfig, TopicExtractor\n",
    "from src.modelling.topics.class_tf_idf import ClassTfidfTransformer\n",
    "from sklearn.feature_extraction.text import CountVectorizer"
   ]
  },
  {
   "cell_type": "code",
   "execution_count": 3,
   "metadata": {},
   "outputs": [],
   "source": [
    "import bs4\n",
    "\n",
    "def clean_html(html_text):\n",
    "  soup = bs4.BeautifulSoup(html_text)\n",
    "  text = soup.get_text()\n",
    "  return text"
   ]
  },
  {
   "cell_type": "code",
   "execution_count": 4,
   "metadata": {},
   "outputs": [],
   "source": [
    "df = pd.read_csv('raw_data/B0012Y0ZG2_reviews.csv')"
   ]
  },
  {
   "cell_type": "code",
   "execution_count": 5,
   "metadata": {},
   "outputs": [
    {
     "name": "stderr",
     "output_type": "stream",
     "text": [
      "/var/folders/53/_11mnb7s3kvbc6qgkwv_5rh00118v9/T/ipykernel_43478/1107407270.py:4: MarkupResemblesLocatorWarning: The input looks more like a filename than markup. You may want to open this file and pass the filehandle into Beautiful Soup.\n",
      "  soup = bs4.BeautifulSoup(html_text)\n"
     ]
    }
   ],
   "source": [
    "reviews = pd.DataFrame({\n",
    "    \"text\": df.reviewText.apply(clean_html),\n",
    "    \"id\": [str(uuid.uuid4()) for _ in range(df.shape[0])],\n",
    "    \"topic\": df.overall,  # experimental!\n",
    "    \"product_id\": df.asin,\n",
    "    \"score\": df.overall, \n",
    "    \"vote\": df.vote,\n",
    "})"
   ]
  },
  {
   "cell_type": "code",
   "execution_count": 6,
   "metadata": {},
   "outputs": [],
   "source": [
    "topic_extraction_config = TopicExtractionConfig(\n",
    "    vectorizer_model = CountVectorizer(ngram_range=(2, 4), stop_words='english'),\n",
    "    ctfidf_model = ClassTfidfTransformer(reduce_frequent_words=True)\n",
    ")\n",
    "\n",
    "topic_extractor = TopicExtractor(topic_extraction_config)"
   ]
  },
  {
   "cell_type": "code",
   "execution_count": 7,
   "metadata": {},
   "outputs": [],
   "source": [
    "topics = topic_extractor(reviews)"
   ]
  },
  {
   "cell_type": "code",
   "execution_count": 10,
   "metadata": {},
   "outputs": [
    {
     "data": {
      "text/plain": [
       "Topic(topic_id=5, n_grams=[('shampoo ive used', 0.3597209907184329), ('consistency water', 0.3597209907184329), ('smell bad', 0.3597209907184329), ('dandruff bay', 0.3597209907184329), ('good reviews', 0.3597209907184329), ('going try', 0.3597209907184329), ('help itchy', 0.3597209907184329), ('burned scalp', 0.3597209907184329), ('im going try', 0.3597209907184329), ('lather hair', 0.3597209907184329)], representative_examples=[\"Nope. It smells like artificial bananas, and this smell does linger. It's pure liquid, there is no thickness to it at all, it's like pouring banana water on your head that lathers. It does not help with an itchy scalp either (I have psoriasis). This shampoo neither helped nor hindered my hair or scalp, made absolutely no difference (except for the banana smell). Don't waste your money.\", \"This product is a scam!  Not only does it have the consistency of water, but you need a tremendous amount for it to foam, as suggested in the instructions.  I have a shaved head and can see going through this bottle in a week or two at this pace.  To make matters worse, the my short hair was sticking up as if I had been electrocuted!  I'm going to try try this junk one more time and if I experience similar results, I'm going to try to return this trash.  BUYER BEWARE!!!\", 'Selenium appeared in my search results when I was looking for an organic anti-dandruff shampoo. I was super excited to see the 5 star review. I have been struggling with dandruff for past 6 years and I was really hoping this will make a difference, atleast keep the dandruff at bay for 2 days followed by a shampoo wash with Selenium. But unfortunately, it hardly keeps dandruff at bay. And to make it worse, it makes your hair super dry.'], stats={}, sentiment=None, text_label=None)"
      ]
     },
     "execution_count": 10,
     "metadata": {},
     "output_type": "execute_result"
    }
   ],
   "source": [
    "topics[5]"
   ]
  }
 ],
 "metadata": {
  "kernelspec": {
   "display_name": "Python 3",
   "language": "python",
   "name": "python3"
  },
  "language_info": {
   "codemirror_mode": {
    "name": "ipython",
    "version": 3
   },
   "file_extension": ".py",
   "mimetype": "text/x-python",
   "name": "python",
   "nbconvert_exporter": "python",
   "pygments_lexer": "ipython3",
   "version": "3.9.6"
  },
  "orig_nbformat": 4
 },
 "nbformat": 4,
 "nbformat_minor": 2
}
